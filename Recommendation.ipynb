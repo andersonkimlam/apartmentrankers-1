{
 "cells": [
  {
   "cell_type": "code",
   "execution_count": 2,
   "metadata": {},
   "outputs": [],
   "source": [
    "import numpy as np\n",
    "import math\n",
    "import pandas as pd\n",
    "import matplotlib as plt\n",
    "import datetime\n",
    "%matplotlib inline"
   ]
  },
  {
   "cell_type": "code",
   "execution_count": 3,
   "metadata": {},
   "outputs": [
    {
     "data": {
      "text/html": [
       "<div>\n",
       "<style scoped>\n",
       "    .dataframe tbody tr th:only-of-type {\n",
       "        vertical-align: middle;\n",
       "    }\n",
       "\n",
       "    .dataframe tbody tr th {\n",
       "        vertical-align: top;\n",
       "    }\n",
       "\n",
       "    .dataframe thead th {\n",
       "        text-align: right;\n",
       "    }\n",
       "</style>\n",
       "<table border=\"1\" class=\"dataframe\">\n",
       "  <thead>\n",
       "    <tr style=\"text-align: right;\">\n",
       "      <th></th>\n",
       "      <th>Unnamed: 0</th>\n",
       "      <th>Unnamed: 0.1</th>\n",
       "      <th>Listing ID</th>\n",
       "      <th>Location</th>\n",
       "      <th>Lat_Long</th>\n",
       "      <th>Monthly Rental Price</th>\n",
       "      <th>Bedrooms</th>\n",
       "      <th>Bathrooms</th>\n",
       "      <th>Square Footage</th>\n",
       "      <th>Latitude</th>\n",
       "      <th>...</th>\n",
       "      <th>num_restaurants</th>\n",
       "      <th>num_subways</th>\n",
       "      <th>num_trees</th>\n",
       "      <th>grocers_normalized</th>\n",
       "      <th>nightlife_normalized</th>\n",
       "      <th>noise_normalized</th>\n",
       "      <th>restaurants_normalized</th>\n",
       "      <th>subways_normalized</th>\n",
       "      <th>trees_normalized</th>\n",
       "      <th>id</th>\n",
       "    </tr>\n",
       "  </thead>\n",
       "  <tbody>\n",
       "    <tr>\n",
       "      <th>0</th>\n",
       "      <td>0</td>\n",
       "      <td>0</td>\n",
       "      <td>3021099</td>\n",
       "      <td>211 North End Avenue #12A</td>\n",
       "      <td>['40.71628546,-74.01546103']</td>\n",
       "      <td>4600</td>\n",
       "      <td>1.0</td>\n",
       "      <td>1.0</td>\n",
       "      <td>860.0</td>\n",
       "      <td>40.716285</td>\n",
       "      <td>...</td>\n",
       "      <td>26</td>\n",
       "      <td>0</td>\n",
       "      <td>430</td>\n",
       "      <td>-1.116985</td>\n",
       "      <td>-0.961782</td>\n",
       "      <td>-1.153283</td>\n",
       "      <td>-0.909475</td>\n",
       "      <td>-0.765301</td>\n",
       "      <td>0.183035</td>\n",
       "      <td>3021099</td>\n",
       "    </tr>\n",
       "    <tr>\n",
       "      <th>1</th>\n",
       "      <td>1</td>\n",
       "      <td>1</td>\n",
       "      <td>3020988</td>\n",
       "      <td>150 East 39th Street #601</td>\n",
       "      <td>['40.74890137,-73.97660065']</td>\n",
       "      <td>2650</td>\n",
       "      <td>0.0</td>\n",
       "      <td>1.0</td>\n",
       "      <td>0.0</td>\n",
       "      <td>40.748901</td>\n",
       "      <td>...</td>\n",
       "      <td>108</td>\n",
       "      <td>3</td>\n",
       "      <td>514</td>\n",
       "      <td>0.304876</td>\n",
       "      <td>-0.137721</td>\n",
       "      <td>-0.217637</td>\n",
       "      <td>0.343502</td>\n",
       "      <td>-0.321111</td>\n",
       "      <td>0.661842</td>\n",
       "      <td>3020988</td>\n",
       "    </tr>\n",
       "    <tr>\n",
       "      <th>2</th>\n",
       "      <td>2</td>\n",
       "      <td>2</td>\n",
       "      <td>3026635</td>\n",
       "      <td>257 West 136th Street #4AA</td>\n",
       "      <td>['40.81700815,-73.94508554']</td>\n",
       "      <td>2195</td>\n",
       "      <td>2.0</td>\n",
       "      <td>1.0</td>\n",
       "      <td>0.0</td>\n",
       "      <td>40.817008</td>\n",
       "      <td>...</td>\n",
       "      <td>12</td>\n",
       "      <td>6</td>\n",
       "      <td>561</td>\n",
       "      <td>0.399667</td>\n",
       "      <td>-0.373167</td>\n",
       "      <td>0.366263</td>\n",
       "      <td>-1.123398</td>\n",
       "      <td>0.123079</td>\n",
       "      <td>0.929746</td>\n",
       "      <td>3026635</td>\n",
       "    </tr>\n",
       "    <tr>\n",
       "      <th>3</th>\n",
       "      <td>3</td>\n",
       "      <td>3</td>\n",
       "      <td>3026633</td>\n",
       "      <td>272 West 139th Street #3A</td>\n",
       "      <td>['40.81876179,-73.9446072']</td>\n",
       "      <td>2650</td>\n",
       "      <td>2.0</td>\n",
       "      <td>1.0</td>\n",
       "      <td>0.0</td>\n",
       "      <td>40.818762</td>\n",
       "      <td>...</td>\n",
       "      <td>13</td>\n",
       "      <td>2</td>\n",
       "      <td>554</td>\n",
       "      <td>0.020504</td>\n",
       "      <td>-0.608613</td>\n",
       "      <td>0.795394</td>\n",
       "      <td>-1.108118</td>\n",
       "      <td>-0.469174</td>\n",
       "      <td>0.889845</td>\n",
       "      <td>3026633</td>\n",
       "    </tr>\n",
       "    <tr>\n",
       "      <th>4</th>\n",
       "      <td>4</td>\n",
       "      <td>4</td>\n",
       "      <td>3026626</td>\n",
       "      <td>408 West 34th Street #6E</td>\n",
       "      <td>['40.75329123,-73.9971017']</td>\n",
       "      <td>1975</td>\n",
       "      <td>0.0</td>\n",
       "      <td>1.0</td>\n",
       "      <td>0.0</td>\n",
       "      <td>40.753291</td>\n",
       "      <td>...</td>\n",
       "      <td>71</td>\n",
       "      <td>0</td>\n",
       "      <td>210</td>\n",
       "      <td>-0.832613</td>\n",
       "      <td>-0.490890</td>\n",
       "      <td>0.387368</td>\n",
       "      <td>-0.221866</td>\n",
       "      <td>-0.765301</td>\n",
       "      <td>-1.070983</td>\n",
       "      <td>3026626</td>\n",
       "    </tr>\n",
       "  </tbody>\n",
       "</table>\n",
       "<p>5 rows × 25 columns</p>\n",
       "</div>"
      ],
      "text/plain": [
       "   Unnamed: 0  Unnamed: 0.1  Listing ID                    Location  \\\n",
       "0           0             0     3021099   211 North End Avenue #12A   \n",
       "1           1             1     3020988   150 East 39th Street #601   \n",
       "2           2             2     3026635  257 West 136th Street #4AA   \n",
       "3           3             3     3026633   272 West 139th Street #3A   \n",
       "4           4             4     3026626    408 West 34th Street #6E   \n",
       "\n",
       "                       Lat_Long  Monthly Rental Price  Bedrooms  Bathrooms  \\\n",
       "0  ['40.71628546,-74.01546103']                  4600       1.0        1.0   \n",
       "1  ['40.74890137,-73.97660065']                  2650       0.0        1.0   \n",
       "2  ['40.81700815,-73.94508554']                  2195       2.0        1.0   \n",
       "3   ['40.81876179,-73.9446072']                  2650       2.0        1.0   \n",
       "4   ['40.75329123,-73.9971017']                  1975       0.0        1.0   \n",
       "\n",
       "   Square Footage   Latitude  ...  num_restaurants num_subways  num_trees  \\\n",
       "0           860.0  40.716285  ...               26           0        430   \n",
       "1             0.0  40.748901  ...              108           3        514   \n",
       "2             0.0  40.817008  ...               12           6        561   \n",
       "3             0.0  40.818762  ...               13           2        554   \n",
       "4             0.0  40.753291  ...               71           0        210   \n",
       "\n",
       "   grocers_normalized  nightlife_normalized  noise_normalized  \\\n",
       "0           -1.116985             -0.961782         -1.153283   \n",
       "1            0.304876             -0.137721         -0.217637   \n",
       "2            0.399667             -0.373167          0.366263   \n",
       "3            0.020504             -0.608613          0.795394   \n",
       "4           -0.832613             -0.490890          0.387368   \n",
       "\n",
       "   restaurants_normalized  subways_normalized  trees_normalized       id  \n",
       "0               -0.909475           -0.765301          0.183035  3021099  \n",
       "1                0.343502           -0.321111          0.661842  3020988  \n",
       "2               -1.123398            0.123079          0.929746  3026635  \n",
       "3               -1.108118           -0.469174          0.889845  3026633  \n",
       "4               -0.221866           -0.765301         -1.070983  3026626  \n",
       "\n",
       "[5 rows x 25 columns]"
      ]
     },
     "execution_count": 3,
     "metadata": {},
     "output_type": "execute_result"
    }
   ],
   "source": [
    "subset = pd.read_csv(\"scored_housing/full_housing.csv\")\n",
    "subset.head()"
   ]
  },
  {
   "cell_type": "markdown",
   "metadata": {},
   "source": [
    "## Getting User Data"
   ]
  },
  {
   "cell_type": "markdown",
   "metadata": {},
   "source": [
    "* User fills out survey, ranking the features 1-6\n",
    "* User also provides constraints, (e.g. number of bedrooms, number of bathrooms, max rental price)"
   ]
  },
  {
   "cell_type": "markdown",
   "metadata": {},
   "source": [
    "## Initial Recommendation"
   ]
  },
  {
   "cell_type": "markdown",
   "metadata": {},
   "source": [
    "* Filter listings by the constraints, ONLY show those that satisfy the constraints.\n",
    "    * Do **NOT** include those that are already shown or those that are disliked.\n",
    "* Shift all the norm values up by 10 to get rid of negative values\n",
    "* Matrix multiply user rankings with the new norm values to create a new score for that user's weights\n",
    "* Show the top listing\n",
    "    * If **LIKE:**\n",
    "        * Add to _Likes_ dictionary, add to _Shown_ dictionary\n",
    "        * Prompt user _\"Do you want to see more like these?\"_\n",
    "            * If **YES:**\n",
    "                * Move into the next code chunk, show similar listings, return to the top of the loop.\n",
    "            * If **NO:**\n",
    "                * Encounter finished, exit.\n",
    "    * If **DISLIKE:**\n",
    "        * Add to _Dislikes_ dictionary, add to _Shown_ dictionary\n",
    "        * Add similar to this listing to the _Dislikes_ dictionary\n",
    "        * Generate a new initial recommendation, return to the top of the loop."
   ]
  },
  {
   "cell_type": "code",
   "execution_count": 39,
   "metadata": {},
   "outputs": [],
   "source": [
    "dislikes = []\n",
    "def initial_rec(preferences, subset):\n",
    "    #preferences is a list with the ranked features of\n",
    "    # grocers_normalized\n",
    "    # nightlife_normalized\n",
    "    # noise_normalized\n",
    "    # restaurants_normalized\n",
    "    # subways_normalized\n",
    "    # trees_normalized\n",
    "    \n",
    "    if len(preferences) != 6:\n",
    "        print(\"error\")\n",
    "        return\n",
    "    preferences = np.array(preferences)\n",
    "    subset[\"User Score\"] = 0.0\n",
    "    for i in range(subset.shape[0]):\n",
    "        score = preferences * np.array(subset.iloc[i, 18:24] + 10)\n",
    "        subset[\"User Score\"][i] = sum(score)\n",
    "    subset = subset.sort_values(by = ['User Score'], ascending = False)\n",
    "    counter = 0\n",
    "    \n",
    "    while True:\n",
    "        potential = subset.iloc[counter, :]\n",
    "        if potential not in dislikes:\n",
    "            break\n",
    "        else:\n",
    "            counter = counter + 1\n",
    "            \n",
    "    return potential\n",
    "    \n",
    "    \n",
    "    "
   ]
  },
  {
   "cell_type": "code",
   "execution_count": null,
   "metadata": {},
   "outputs": [
    {
     "name": "stderr",
     "output_type": "stream",
     "text": [
      "/srv/app/venv/lib/python3.6/site-packages/ipykernel_launcher.py:18: SettingWithCopyWarning: \n",
      "A value is trying to be set on a copy of a slice from a DataFrame\n",
      "\n",
      "See the caveats in the documentation: http://pandas.pydata.org/pandas-docs/stable/indexing.html#indexing-view-versus-copy\n"
     ]
    }
   ],
   "source": [
    "initial_rec([1,2,5,4,1,5], subset)"
   ]
  },
  {
   "cell_type": "markdown",
   "metadata": {},
   "source": [
    "## Similar Listings after Initial Recommendation (Content Based Recommender)\n",
    "https://towardsdatascience.com/how-to-build-from-scratch-a-content-based-movie-recommender-with-natural-language-processing-25ad400eb243"
   ]
  },
  {
   "cell_type": "code",
   "execution_count": 34,
   "metadata": {},
   "outputs": [
    {
     "data": {
      "text/html": [
       "<div>\n",
       "<style scoped>\n",
       "    .dataframe tbody tr th:only-of-type {\n",
       "        vertical-align: middle;\n",
       "    }\n",
       "\n",
       "    .dataframe tbody tr th {\n",
       "        vertical-align: top;\n",
       "    }\n",
       "\n",
       "    .dataframe thead th {\n",
       "        text-align: right;\n",
       "    }\n",
       "</style>\n",
       "<table border=\"1\" class=\"dataframe\">\n",
       "  <thead>\n",
       "    <tr style=\"text-align: right;\">\n",
       "      <th></th>\n",
       "      <th>grocers_normalized</th>\n",
       "      <th>nightlife_normalized</th>\n",
       "      <th>noise_normalized</th>\n",
       "      <th>restaurants_normalized</th>\n",
       "      <th>subways_normalized</th>\n",
       "      <th>trees_normalized</th>\n",
       "    </tr>\n",
       "  </thead>\n",
       "  <tbody>\n",
       "    <tr>\n",
       "      <th>0</th>\n",
       "      <td>8.883015</td>\n",
       "      <td>9.038218</td>\n",
       "      <td>8.846717</td>\n",
       "      <td>9.090525</td>\n",
       "      <td>9.234699</td>\n",
       "      <td>10.183035</td>\n",
       "    </tr>\n",
       "    <tr>\n",
       "      <th>1</th>\n",
       "      <td>10.304876</td>\n",
       "      <td>9.862279</td>\n",
       "      <td>9.782363</td>\n",
       "      <td>10.343502</td>\n",
       "      <td>9.678889</td>\n",
       "      <td>10.661842</td>\n",
       "    </tr>\n",
       "    <tr>\n",
       "      <th>2</th>\n",
       "      <td>10.399667</td>\n",
       "      <td>9.626833</td>\n",
       "      <td>10.366263</td>\n",
       "      <td>8.876602</td>\n",
       "      <td>10.123079</td>\n",
       "      <td>10.929746</td>\n",
       "    </tr>\n",
       "    <tr>\n",
       "      <th>3</th>\n",
       "      <td>10.020504</td>\n",
       "      <td>9.391387</td>\n",
       "      <td>10.795394</td>\n",
       "      <td>8.891882</td>\n",
       "      <td>9.530826</td>\n",
       "      <td>10.889845</td>\n",
       "    </tr>\n",
       "    <tr>\n",
       "      <th>4</th>\n",
       "      <td>9.167387</td>\n",
       "      <td>9.509110</td>\n",
       "      <td>10.387368</td>\n",
       "      <td>9.778134</td>\n",
       "      <td>9.234699</td>\n",
       "      <td>8.929017</td>\n",
       "    </tr>\n",
       "  </tbody>\n",
       "</table>\n",
       "</div>"
      ],
      "text/plain": [
       "   grocers_normalized  nightlife_normalized  noise_normalized  \\\n",
       "0            8.883015              9.038218          8.846717   \n",
       "1           10.304876              9.862279          9.782363   \n",
       "2           10.399667              9.626833         10.366263   \n",
       "3           10.020504              9.391387         10.795394   \n",
       "4            9.167387              9.509110         10.387368   \n",
       "\n",
       "   restaurants_normalized  subways_normalized  trees_normalized  \n",
       "0                9.090525            9.234699         10.183035  \n",
       "1               10.343502            9.678889         10.661842  \n",
       "2                8.876602           10.123079         10.929746  \n",
       "3                8.891882            9.530826         10.889845  \n",
       "4                9.778134            9.234699          8.929017  "
      ]
     },
     "execution_count": 34,
     "metadata": {},
     "output_type": "execute_result"
    }
   ],
   "source": [
    "vals = subset.iloc[:, 18:24] + 10\n",
    "vals.head()"
   ]
  },
  {
   "cell_type": "code",
   "execution_count": 35,
   "metadata": {},
   "outputs": [],
   "source": [
    "import pandas as pd\n",
    "import numpy as np\n",
    "from sklearn.metrics.pairwise import cosine_similarity"
   ]
  },
  {
   "cell_type": "code",
   "execution_count": 36,
   "metadata": {},
   "outputs": [
    {
     "data": {
      "text/plain": [
       "array([[1.        , 0.99924818, 0.99820424, ..., 0.99954346, 0.999533  ,\n",
       "        0.99395805],\n",
       "       [0.99924818, 1.        , 0.99769486, ..., 0.99971877, 0.99953334,\n",
       "        0.99297043],\n",
       "       [0.99820424, 0.99769486, 1.        , ..., 0.99861665, 0.99835162,\n",
       "        0.99603691],\n",
       "       ...,\n",
       "       [0.99954346, 0.99971877, 0.99861665, ..., 1.        , 0.99990587,\n",
       "        0.9947071 ],\n",
       "       [0.999533  , 0.99953334, 0.99835162, ..., 0.99990587, 1.        ,\n",
       "        0.99475874],\n",
       "       [0.99395805, 0.99297043, 0.99603691, ..., 0.9947071 , 0.99475874,\n",
       "        1.        ]])"
      ]
     },
     "execution_count": 36,
     "metadata": {},
     "output_type": "execute_result"
    }
   ],
   "source": [
    "cosine_sim = cosine_similarity(vals)\n",
    "cosine_sim"
   ]
  },
  {
   "cell_type": "code",
   "execution_count": 37,
   "metadata": {},
   "outputs": [],
   "source": [
    "indices = pd.Series(subset[\"Location\"])\n",
    "\n",
    "# Defining the function that takes in listing name\n",
    "# as input and returns the top 10 recommended listings\n",
    "def recommendations(address, cosine_sim = cosine_sim):\n",
    "    \n",
    "    # initializing the empty list of recommended listings\n",
    "    recommended_addresses = []\n",
    "    \n",
    "    # gettin the index of the listing that matches the title\n",
    "    idx = indices[indices == address].index[0]\n",
    "\n",
    "    # creating a Series with the similarity scores in descending order\n",
    "    score_series = pd.Series(cosine_sim[idx]).sort_values(ascending = False)\n",
    "\n",
    "    # getting the indexes of the 10 most similar listings\n",
    "    top_10_indexes = list(score_series.iloc[1:11].index)\n",
    "    \n",
    "    # populating the list with the titles of the best 10 matching listings\n",
    "    for i in top_10_indexes:\n",
    "        recommended_addresses.append(list(vals.index)[i])\n",
    "        \n",
    "    return recommended_addresses"
   ]
  },
  {
   "cell_type": "code",
   "execution_count": 38,
   "metadata": {},
   "outputs": [
    {
     "data": {
      "text/plain": [
       "['173 Ludlow Street #1A',\n",
       " '169 Allen Street #1B',\n",
       " '25 Clinton Street #304A',\n",
       " '18 Avenue A #5A',\n",
       " '171 Suffolk Street #2B',\n",
       " '171 Suffolk Street #11D',\n",
       " '171 Suffolk Street #6J',\n",
       " '94 Orchard Street #3D',\n",
       " '76 E 1st Street #1AD',\n",
       " '191 Avenue A #2']"
      ]
     },
     "execution_count": 38,
     "metadata": {},
     "output_type": "execute_result"
    }
   ],
   "source": [
    "[indices[x] for x in recommendations(\"112 Stanton Street #4\")]"
   ]
  },
  {
   "cell_type": "markdown",
   "metadata": {},
   "source": [
    "## Visualizations"
   ]
  },
  {
   "cell_type": "markdown",
   "metadata": {},
   "source": [
    "When users receive a recommendation, they should be able to see visually **where the listing is on a map.**\n",
    "Ideally, they should be able to click on a listing and a pop-up should appear with the following:\n",
    "* Apartment name\n",
    "* Beds\n",
    "* Bathrooms\n",
    "* Square footage (if available)\n",
    "* Price\n",
    "* Some generic description of why we recommended\n",
    "    * _You prioritized **X**, there are **Y** instances of this within a 0.25 mile radius of this listing._"
   ]
  },
  {
   "cell_type": "markdown",
   "metadata": {},
   "source": [
    "Users should also be able to see things they marked as _**Liked**_ in a similar visualization as mentioned above."
   ]
  }
 ],
 "metadata": {
  "kernelspec": {
   "display_name": "Python 3",
   "language": "python",
   "name": "python3"
  },
  "language_info": {
   "codemirror_mode": {
    "name": "ipython",
    "version": 3
   },
   "file_extension": ".py",
   "mimetype": "text/x-python",
   "name": "python",
   "nbconvert_exporter": "python",
   "pygments_lexer": "ipython3",
   "version": "3.7.3"
  }
 },
 "nbformat": 4,
 "nbformat_minor": 4
}

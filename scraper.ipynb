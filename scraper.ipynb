{
 "cells": [
  {
   "cell_type": "code",
   "execution_count": 16,
   "metadata": {},
   "outputs": [],
   "source": [
    "from bs4 import BeautifulSoup\n",
    "import urllib\n",
    "import pandas as pd\n",
    "import pandas as np\n",
    "import re"
   ]
  },
  {
   "cell_type": "code",
   "execution_count": 25,
   "metadata": {},
   "outputs": [
    {
     "name": "stdout",
     "output_type": "stream",
     "text": [
      "done\n"
     ]
    }
   ],
   "source": [
    "# Create arrays to store housing information.\n",
    "\n",
    "listing_ids=[]\n",
    "lat_long=[]\n",
    "price=[]\n",
    "bed=[]\n",
    "bath=[]\n",
    "size=[]\n",
    "location=[]\n",
    "neighborhood=[]\n",
    "\n",
    "# Iterate through all of the .html files located in html_files folder.\n",
    "# HTMLs from https://streeteasy.com/for-rent/manhattan?page=X\n",
    "for x in [*range(0,100)]:\n",
    "    soup = BeautifulSoup(open(\"html_files/\" + str(x) + \".html\"), \"html.parser\")\n",
    "    lst = soup.find_all(\"article\")\n",
    "    for i in range(len(lst)):\n",
    "        \n",
    "        # Check to see if unique listing ID is already in the array.\n",
    "        listing = int(re.findall(r\"(?<=data-gtm-listing-id=\\\").*?(?=\\\")\",str(lst[i]))[0])\n",
    "        if listing in listing_ids:\n",
    "            break\n",
    "        else:\n",
    "            listing_ids.append(listing)\n",
    "\n",
    "        # Extract latitude and longitude coordinates.\n",
    "        lat_long.append(re.findall(r\"(?<=point=\\\").*?(?=\\\")\",str(lst[i])))\n",
    "        \n",
    "        # Extract monthly rent price.\n",
    "        if lst[i].find_all('span',{'class':'price'})==[]:\n",
    "            price.append('')\n",
    "        else:\n",
    "            price.append(lst[i].find_all('span',{'class':'price'})[0].string.replace('$','').replace(',',''))\n",
    "         \n",
    "        # Extract the number of bedrooms, bathrooms, and square footage if available.\n",
    "        temp_list = []\n",
    "        temp_beds = 0\n",
    "        temp_baths = 0\n",
    "        temp_size = 0\n",
    "\n",
    "        for j in lst[i].find_all('li',{'class':['first_detail_cell','detail_cell','last_detail_cell']}):\n",
    "            temp_list.append(j.string)\n",
    "        temp_list = [*map(str,temp_list)]\n",
    "\n",
    "        for j in temp_list:\n",
    "            if 'bed' in j:\n",
    "                temp_beds = float(re.findall(r'\\d+', j)[0])\n",
    "            if 'bath' in j:\n",
    "                temp_baths = float(re.findall(r'\\d+', j)[0])\n",
    "            if 'ft' in j:\n",
    "                temp_size = float(re.findall(r'\\d+', j)[0])\n",
    "        \n",
    "        bed.append(temp_beds)\n",
    "        bath.append(temp_baths)\n",
    "        size.append(temp_size)\n",
    "        \n",
    "        # Extract the address and unit number for apartment listing.\n",
    "        location.append(str(lst[i].find_all('a', {'class':'details-titleLink'})[0].string))\n",
    "        \n",
    "        # Neighborhood\n",
    "        neighborhood.append(lst[i].find_all(\"li\",{\"class\":\"details_info\"})[0].text)\n",
    "        \n",
    "print('done')"
   ]
  },
  {
   "cell_type": "code",
   "execution_count": 18,
   "metadata": {},
   "outputs": [
    {
     "data": {
      "text/plain": [
       "(883, 883, 883, 883, 883, 883, 883, 883)"
      ]
     },
     "execution_count": 18,
     "metadata": {},
     "output_type": "execute_result"
    }
   ],
   "source": [
    "len(listing_ids), len(lat_long), len(price), len(bed), len(bath), len(size), len(location), len(neighborhood)"
   ]
  },
  {
   "cell_type": "code",
   "execution_count": 37,
   "metadata": {},
   "outputs": [
    {
     "data": {
      "text/html": [
       "<div>\n",
       "<style scoped>\n",
       "    .dataframe tbody tr th:only-of-type {\n",
       "        vertical-align: middle;\n",
       "    }\n",
       "\n",
       "    .dataframe tbody tr th {\n",
       "        vertical-align: top;\n",
       "    }\n",
       "\n",
       "    .dataframe thead th {\n",
       "        text-align: right;\n",
       "    }\n",
       "</style>\n",
       "<table border=\"1\" class=\"dataframe\">\n",
       "  <thead>\n",
       "    <tr style=\"text-align: right;\">\n",
       "      <th></th>\n",
       "      <th>Listing ID</th>\n",
       "      <th>Location</th>\n",
       "      <th>Lat_Long</th>\n",
       "      <th>Monthly Rental Price</th>\n",
       "      <th>Bedrooms</th>\n",
       "      <th>Bathrooms</th>\n",
       "      <th>Square Footage</th>\n",
       "      <th>Neighborhood</th>\n",
       "    </tr>\n",
       "  </thead>\n",
       "  <tbody>\n",
       "    <tr>\n",
       "      <th>0</th>\n",
       "      <td>3021099</td>\n",
       "      <td>211 North End Avenue #12A</td>\n",
       "      <td>[40.71628546,-74.01546103]</td>\n",
       "      <td>4600</td>\n",
       "      <td>1.0</td>\n",
       "      <td>1.0</td>\n",
       "      <td>860.0</td>\n",
       "      <td>Battery Park City</td>\n",
       "    </tr>\n",
       "    <tr>\n",
       "      <th>1</th>\n",
       "      <td>3020988</td>\n",
       "      <td>150 East 39th Street #601</td>\n",
       "      <td>[40.74890137,-73.97660065]</td>\n",
       "      <td>2650</td>\n",
       "      <td>0.0</td>\n",
       "      <td>1.0</td>\n",
       "      <td>0.0</td>\n",
       "      <td>Murray Hill</td>\n",
       "    </tr>\n",
       "    <tr>\n",
       "      <th>2</th>\n",
       "      <td>3026635</td>\n",
       "      <td>257 West 136th Street #4AA</td>\n",
       "      <td>[40.81700815,-73.94508554]</td>\n",
       "      <td>2195</td>\n",
       "      <td>2.0</td>\n",
       "      <td>1.0</td>\n",
       "      <td>0.0</td>\n",
       "      <td>Central Harlem</td>\n",
       "    </tr>\n",
       "    <tr>\n",
       "      <th>3</th>\n",
       "      <td>3026633</td>\n",
       "      <td>272 West 139th Street #3A</td>\n",
       "      <td>[40.81876179,-73.9446072]</td>\n",
       "      <td>2650</td>\n",
       "      <td>2.0</td>\n",
       "      <td>1.0</td>\n",
       "      <td>0.0</td>\n",
       "      <td>Central Harlem</td>\n",
       "    </tr>\n",
       "    <tr>\n",
       "      <th>4</th>\n",
       "      <td>3026626</td>\n",
       "      <td>408 West 34th Street #6E</td>\n",
       "      <td>[40.75329123,-73.9971017]</td>\n",
       "      <td>1975</td>\n",
       "      <td>0.0</td>\n",
       "      <td>1.0</td>\n",
       "      <td>0.0</td>\n",
       "      <td>Hudson Yards</td>\n",
       "    </tr>\n",
       "  </tbody>\n",
       "</table>\n",
       "</div>"
      ],
      "text/plain": [
       "   Listing ID                    Location                    Lat_Long  \\\n",
       "0     3021099   211 North End Avenue #12A  [40.71628546,-74.01546103]   \n",
       "1     3020988   150 East 39th Street #601  [40.74890137,-73.97660065]   \n",
       "2     3026635  257 West 136th Street #4AA  [40.81700815,-73.94508554]   \n",
       "3     3026633   272 West 139th Street #3A   [40.81876179,-73.9446072]   \n",
       "4     3026626    408 West 34th Street #6E   [40.75329123,-73.9971017]   \n",
       "\n",
       "  Monthly Rental Price  Bedrooms  Bathrooms  Square Footage  \\\n",
       "0                 4600       1.0        1.0           860.0   \n",
       "1                 2650       0.0        1.0             0.0   \n",
       "2                 2195       2.0        1.0             0.0   \n",
       "3                 2650       2.0        1.0             0.0   \n",
       "4                 1975       0.0        1.0             0.0   \n",
       "\n",
       "           Neighborhood  \n",
       "0    Battery Park City   \n",
       "1          Murray Hill   \n",
       "2       Central Harlem   \n",
       "3       Central Harlem   \n",
       "4  Hudson Yards          "
      ]
     },
     "execution_count": 37,
     "metadata": {},
     "output_type": "execute_result"
    }
   ],
   "source": [
    "housing_df = pd.DataFrame(data={\"Listing ID\":listing_ids,\"Location\":location,\"Lat_Long\":lat_long, \"Monthly Rental Price\":price,\n",
    "                               \"Bedrooms\":bed,\"Bathrooms\":bath,\"Square Footage\":size,\"Neighborhood\":neighborhood})\n",
    "housing_df['Neighborhood'] = housing_df['Neighborhood'].apply(lambda x: re.sub(\"\\n*.*\\sin\\s\", '', str(x)))\n",
    "housing_df['Neighborhood'] = housing_df['Neighborhood'].apply(lambda x: re.sub(\"\\n*New\\sDevelopment\", '', str(x)))\n",
    "\n",
    "housing_df.head()"
   ]
  },
  {
   "cell_type": "code",
   "execution_count": 38,
   "metadata": {},
   "outputs": [
    {
     "data": {
      "text/plain": [
       "East Village                   75\n",
       "Upper West Side                71\n",
       "Hell's Kitchen                 61\n",
       "West Village                   45\n",
       "Lincoln Square                 43\n",
       "Chelsea                        41\n",
       "Murray Hill                    39\n",
       "Yorkville                      33\n",
       "Kips Bay                       32\n",
       "Lower East Side                30\n",
       "Turtle Bay                     28\n",
       "Lenox Hill                     27\n",
       "Midtown                        25\n",
       "Hudson Yards                   21\n",
       "South Harlem                   20\n",
       "Financial District             20\n",
       "Midtown South                  17\n",
       "Roosevelt Island               16\n",
       "Flatiron                       15\n",
       "West Chelsea                   14\n",
       "Morningside Heights            14\n",
       "Gramercy Park                  14\n",
       "Carnegie Hill                  13\n",
       "Fulton/Seaport                 13\n",
       "Manhattan Valley               13\n",
       "Hamilton Heights               13\n",
       "NoMad                          12\n",
       "Washington Heights             12\n",
       "Little Italy                   11\n",
       "Central Harlem                 10\n",
       "Tribeca                         9\n",
       "Greenwich Village               8\n",
       "Nolita                          8\n",
       "Soho                            7\n",
       "East Harlem                     7\n",
       "Inwood                          6\n",
       "Sutton Place                    5\n",
       "Hudson Heights                  5\n",
       "Two Bridges                     5\n",
       "Battery Park City               5\n",
       "Fort George                     4\n",
       "Hudson Square                   3\n",
       "Central Park South              3\n",
       "Noho                            2\n",
       "West Harlem                     2\n",
       "Manhattanville                  2\n",
       "Upper East Side                 2\n",
       "Beekman                         1\n",
       "Upper Carnegie Hill             1\n",
       "Name: Neighborhood, dtype: int64"
      ]
     },
     "execution_count": 38,
     "metadata": {},
     "output_type": "execute_result"
    }
   ],
   "source": [
    "housing_df['Neighborhood'].value_counts()"
   ]
  },
  {
   "cell_type": "code",
   "execution_count": 39,
   "metadata": {},
   "outputs": [],
   "source": [
    "housing_df.to_csv('manhattan_rentals_apr27.csv')"
   ]
  },
  {
   "cell_type": "code",
   "execution_count": null,
   "metadata": {},
   "outputs": [],
   "source": []
  }
 ],
 "metadata": {
  "kernelspec": {
   "display_name": "Python 3",
   "language": "python",
   "name": "python3"
  },
  "language_info": {
   "codemirror_mode": {
    "name": "ipython",
    "version": 3
   },
   "file_extension": ".py",
   "mimetype": "text/x-python",
   "name": "python",
   "nbconvert_exporter": "python",
   "pygments_lexer": "ipython3",
   "version": "3.7.3"
  }
 },
 "nbformat": 4,
 "nbformat_minor": 2
}
